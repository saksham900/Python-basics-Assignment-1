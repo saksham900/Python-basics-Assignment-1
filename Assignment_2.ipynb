{
  "nbformat": 4,
  "nbformat_minor": 0,
  "metadata": {
    "colab": {
      "provenance": [],
      "authorship_tag": "ABX9TyNc8+CurAVO+hEZ2SEMNuis",
      "include_colab_link": true
    },
    "kernelspec": {
      "name": "python3",
      "display_name": "Python 3"
    },
    "language_info": {
      "name": "python"
    }
  },
  "cells": [
    {
      "cell_type": "markdown",
      "metadata": {
        "id": "view-in-github",
        "colab_type": "text"
      },
      "source": [
        "<a href=\"https://colab.research.google.com/github/saksham900/Python-basics-Assignment-1/blob/main/Assignment_2.ipynb\" target=\"_parent\"><img src=\"https://colab.research.google.com/assets/colab-badge.svg\" alt=\"Open In Colab\"/></a>"
      ]
    },
    {
      "cell_type": "code",
      "execution_count": 4,
      "metadata": {
        "id": "S8447LgjYDGf"
      },
      "outputs": [],
      "source": [
        "# Q1 What are data structures, and why are they important?\n",
        "# Data structures are specialized formats used to organize, store, and manage data efficiently in computer systems. They include arrays, linked lists,\n",
        "# stacks, queues, trees, graphs, and hash tables. Choosing the right data structure helps in performing operations like searching, inserting, deleting,\n",
        "# and sorting quickly and effectively. They play a crucial role in writing optimized and maintainable code, improving the performance of algorithms,\n",
        "# and solving complex problems in real-world applications such as databases, operating systems, and networking. Understanding data structures is fundamental\n",
        "# for programming and algorithm design, as they provide the foundation for solving problems and building efficient software systems.\n",
        "\n",
        "\n",
        "# Q2  Explain the difference between mutable and immutable data types with examples.\n",
        "#     In programming, mutable data types are those whose values can be changed after creation, while immutable data types cannot be altered once defined.\n",
        "#     For example, in Python, lists are mutable—you can add, remove, or modify elements (e.g., my_list = [1, 2, 3], then my_list[0] = 10). On the other\n",
        "#     hand, strings and tuples are immutable. Once created, their contents cannot be changed (e.g., my_string = \"hello\"; trying to change my_string[0] = 'H'\n",
        "#     will cause an error). Understanding the difference helps in choosing the right data type for specific tasks and ensures proper memory and data\n",
        "#     management in programs.\n",
        "\n",
        "\n",
        "# Q3  What are the main differences between lists and tuples in Python?\n",
        "#     In Python, lists and tuples are both used to store collections of items, but they differ in key ways. Lists are mutable, meaning their elements can be\n",
        "#     changed, added, or removed after creation (e.g., my_list = [1, 2, 3]). In contrast, tuples are immutable, so once defined, their contents cannot be\n",
        "#     modified (e.g., my_tuple = (1, 2, 3)). Lists use square brackets [], while tuples use parentheses (). Because of their immutability, tuples are faster\n",
        "#     and more memory-efficient than lists and are often used for fixed data. Lists are more flexible and commonly used in dynamic programs.\n",
        "\n",
        "\n",
        "# Q4 Describe how dictionaries store data?\n",
        "#     In Python, dictionaries store data in the form of key-value pairs, where each key is unique and maps to a specific value. This structure allows fast\n",
        "#     access to data by using the key instead of searching through the entire collection. Dictionaries are defined using curly braces {}. For example,\n",
        "#     my_dict = {\"name\": \"Alice\", \"age\": 25} stores two key-value pairs. Data in dictionaries is unordered (until Python 3.6, after which insertion order is\n",
        "#     preserved), and values can be of any data type. This makes dictionaries ideal for storing structured information like user profiles, configurations,\n",
        "#     and database-like records.\n",
        "\n",
        "\n",
        "# Q5Why might you use a set instead of a list in Python?\n",
        "#     Sets are used when you need to store unique items only and don’t care about order. Unlike lists, sets automatically eliminate duplicates, which is\n",
        "#     useful in cases like removing repeated elements. Sets also offer faster membership testing (in operator) because they are implemented using hash tables.\n",
        "#     However, sets are unordered and do not support indexing. Use a set when uniqueness and performance in checking membership are more important than\n",
        "#     maintaining item order.\n",
        "\n",
        "\n",
        "# Q6What is a string in Python, and how is it different from a list?\n",
        "#     A string in Python is an immutable sequence of characters enclosed in quotes, like \"hello\". A list is a mutable sequence that can hold elements of any\n",
        "#     type, such as numbers, strings, or even other lists. You can modify a list, but you cannot change individual characters in a string. Also, string\n",
        "#     operations are optimized for text processing, while lists are more general-purpose and flexible. Both support indexing and slicing.\n",
        "\n",
        "\n",
        "# Q7 How do tuples ensure data integrity in Python?\n",
        "#     Tuples are immutable, meaning their elements cannot be modified after creation. This helps ensure data integrity by preventing accidental changes,\n",
        "#     especially when the data shouldn't be altered—like GPS coordinates or fixed configuration values. Since the data remains constant, tuples are also\n",
        "#     hashable, allowing them to be used as dictionary keys or elements in sets. Their immutability makes tuples more secure, predictable, and reliable for\n",
        "#     representing fixed collections of data.\n",
        "\n",
        "\n",
        "# Q8 What is a hash table, and how does it relate to dictionaries in Python?\n",
        "#     A hash table is a data structure that maps keys to values using a hashing function. In Python, dictionaries are implemented using hash tables. When a\n",
        "#     key is added, its hash value determines where it is stored, enabling fast access, insertion, and deletion. This makes dictionaries extremely efficient\n",
        "#     for lookups. Since hashing requires keys to be immutable, only hashable types like strings, numbers, or tuples can be dictionary keys.\n",
        "\n",
        "\n",
        "# Q9 Can lists contain different data types in Python?\n",
        "#     Yes, lists in Python are very flexible and can contain elements of different data types. For example, a list can have integers, strings, floats, other\n",
        "#     lists, or even functions and objects—all in the same list: [1, \"hello\", 3.14, [5, 6]]. This dynamic nature is due to Python’s dynamically typed and\n",
        "#     object-oriented nature. However, mixing too many data types can make code harder to manage or debug, so it's best used wisely.\n",
        "\n",
        "\n",
        "# Q10 Explain why strings are immutable in Python.\n",
        "#     Strings are immutable in Python, meaning their contents can’t be changed after creation. This design ensures security, consistency, and efficiency in\n",
        "#     memory usage and performance. For example, if multiple variables reference the same string, Python can store only one copy. Immutability also avoids\n",
        "#     bugs caused by unexpected changes. To “modify” a string, you must create a new one. This behavior is crucial in applications like keys in dictionaries\n",
        "#     or concurrent programming.\n",
        "\n",
        "\n",
        "#Q11 What advantages do dictionaries offer over lists for certain tasks?\n",
        "#     Dictionaries provide faster data retrieval when accessing values by keys, making them ideal for tasks that involve looking up items based on unique\n",
        "#     identifiers. Unlike lists, which use indexes, dictionaries use key-value pairs, allowing for descriptive and readable code (e.g., student[\"name\"] vs.\n",
        "#     student[0]). Dictionaries also offer more flexibility in structuring complex data. They’re best for structured, labeled data, such as storing user\n",
        "#     profiles, configuration settings, or database-like records.\n",
        "\n",
        "\n",
        "#Q12 Describe a scenario where using a tuple would be preferable over a list.\n",
        "#     Tuples are preferred when you want to store a fixed collection of items that should not change. For example, storing coordinates ((latitude, longitude)),\n",
        "#     RGB color codes, or days of the week. Because tuples are immutable, they ensure data remains constant, and their hashable nature allows them to be used\n",
        "#     as keys in dictionaries or elements in sets. They’re also slightly faster and more memory-efficient than lists, making them ideal for static data.\n",
        "\n",
        "\n",
        "#Q13 How do sets handle duplicate values in Python?\n",
        "#     Sets in Python automatically remove duplicate values. When you create a set, any repeated elements are discarded, and only unique elements remain.\n",
        "#     For example, set([1, 2, 2, 3]) results in {1, 2, 3}. This makes sets useful for tasks like removing duplicates from a list or checking membership\n",
        "#     efficiently. Sets are unordered, meaning the items have no defined order, and they do not support indexing or slicing like lists do.\n",
        "\n",
        "\n",
        "#Q14 How does the “in” keyword work differently for lists and dictionaries?\n",
        "#     In a list, the in keyword checks if a specific value exists in the sequence (e.g., \"apple\" in fruits). In a dictionary, in checks for the existence of\n",
        "#     a key, not a value (e.g., \"name\" in student checks if the key \"name\" exists, not if it is a value). To check for a value in a dictionary, you’d use\n",
        "#     \"Alice\" in student.values(). This distinction helps optimize lookups in different structures.\n",
        "\n",
        "\n",
        "#Q15 Can you modify the elements of a tuple? Explain why or why not.\n",
        "#     No, you cannot modify the elements of a tuple in Python because tuples are immutable. Once a tuple is created, its elements cannot be changed, added,\n",
        "#     or removed. This behavior ensures data integrity and allows tuples to be used as keys in dictionaries or elements in sets, which require immutable data\n",
        "#     types. If you need a similar data structure that allows modification, you should use a list instead of a tuple.\n",
        "\n",
        "\n",
        "#Q16 What is a nested dictionary, and give an example of its use case.\n",
        "#     A nested dictionary is a dictionary where values are themselves dictionaries. This allows storing hierarchical or structured data. For example,\n",
        "#     a school record:\n",
        "\n",
        "#python\n",
        "#Copy\n",
        "#Edit\n",
        "#student = {\"name\": \"Ali\", \"grades\": {\"math\": 90, \"science\": 85}}\n",
        "#     Nested dictionaries are useful in applications like JSON data, APIs, or databases, where complex objects must be represented. They help organize data\n",
        "#     logically, allowing easy access to inner layers using multiple keys (e.g., student[\"grades\"][\"math\"]).\n",
        "\n",
        "\n",
        "#Q17 Describe the time complexity of accessing elements in a dictionary.\n",
        "#     Accessing elements in a dictionary has an average time complexity of O(1), meaning it takes constant time regardless of the dictionary size. This is\n",
        "#     because Python dictionaries use hash tables, which allow quick lookups by computing a hash of the key. However, in rare cases involving hash collisions,\n",
        "#     the worst-case time complexity can be O(n). Still, dictionary lookups are typically very fast and more efficient than linear searches in lists.\n",
        "\n",
        "\n",
        "#Q18 In what situations are lists preferred over dictionaries?\n",
        "#     Lists are preferred when you need to store ordered collections or when position matters, such as maintaining a sequence of steps, items in a queue, or\n",
        "#     indexed data. Lists are also useful when working with duplicate values, or when the data doesn’t need labels. For example, storing scores, names in a\n",
        "#     lineup, or processing a series of tasks. Lists are simpler to iterate through when keys are not necessary for data organization.\n",
        "\n",
        "\n",
        "#Q19 Why are dictionaries considered unordered, and how does that affect data retrieval?\n",
        "#     Until Python 3.6, dictionaries were considered unordered, meaning the order of items couldn’t be relied upon. Starting from Python 3.7, insertion order\n",
        "#     is preserved, but dictionaries are still typically treated as logically unordered. Unlike lists, you can’t retrieve items by index, only by key. This\n",
        "#     affects data retrieval when order matters—dictionaries don't support slicing or positional access, so you must use keys to retrieve or manipulate data.\n",
        "\n",
        "\n",
        "#Q20 16. Explain the difference between a list and a dictionary in terms of data retrieval.\n",
        "#     In a list, data is retrieved using an index, which is an integer that starts at 0. For example, my_list[0] gives the first item. In a dictionary, data\n",
        "#     is retrieved using a key, which can be a string, number, or tuple (e.g., my_dict[\"name\"]). Lists are useful when order and position matter; dictionaries\n",
        "#     are better when you need to associate values with specific labels, making data retrieval more intuitive and descriptive.\n"
      ]
    },
    {
      "cell_type": "code",
      "source": [
        "# 1. Write a code to create a string with your name and print it.\n",
        "name = \"saksham\"\n",
        "print(name)\n"
      ],
      "metadata": {
        "colab": {
          "base_uri": "https://localhost:8080/"
        },
        "id": "MEnFbnATYG_z",
        "outputId": "614dde4c-9ab5-47a4-a58e-5e23ab0801c9"
      },
      "execution_count": 5,
      "outputs": [
        {
          "output_type": "stream",
          "name": "stdout",
          "text": [
            "saksham\n"
          ]
        }
      ]
    },
    {
      "cell_type": "code",
      "source": [
        "# 2. Write a code to find the length of the string \"Hello World\".\n",
        "text = \"Hello World\"\n",
        "print(len(text))\n"
      ],
      "metadata": {
        "colab": {
          "base_uri": "https://localhost:8080/"
        },
        "id": "cRhq56c8d0ps",
        "outputId": "9c2da0d5-9c24-4721-f212-9a096dab9fac"
      },
      "execution_count": 6,
      "outputs": [
        {
          "output_type": "stream",
          "name": "stdout",
          "text": [
            "11\n"
          ]
        }
      ]
    },
    {
      "cell_type": "code",
      "source": [
        "# 3. Write a code to slice the first 3 characters from the string \"Python Programming\"\n",
        "text = \"Python Programming\"\n",
        "print(text[:3])\n",
        "\n"
      ],
      "metadata": {
        "colab": {
          "base_uri": "https://localhost:8080/"
        },
        "id": "IZV8zX3Qd9Sc",
        "outputId": "a987efd1-087e-4fc4-9ec9-ab3db3ed5add"
      },
      "execution_count": 7,
      "outputs": [
        {
          "output_type": "stream",
          "name": "stdout",
          "text": [
            "Pyt\n"
          ]
        }
      ]
    },
    {
      "cell_type": "code",
      "source": [
        "# 4. Write a code to convert the string \"hello\" to uppercase.\n",
        "word = \"hello\"\n",
        "print(word.upper())\n"
      ],
      "metadata": {
        "colab": {
          "base_uri": "https://localhost:8080/"
        },
        "id": "BqI7Cor9eGiw",
        "outputId": "9c63a2a0-bad6-4e53-90ee-0a54a00fbf10"
      },
      "execution_count": 8,
      "outputs": [
        {
          "output_type": "stream",
          "name": "stdout",
          "text": [
            "HELLO\n"
          ]
        }
      ]
    },
    {
      "cell_type": "code",
      "source": [
        "# 5. Write a code to replace the word \"apple\" with \"orange\" in the string \"I like apple\".\n",
        "text = \"I like apple\"\n",
        "new_text = text.replace(\"apple\", \"orange\")\n",
        "print(new_text)\n"
      ],
      "metadata": {
        "colab": {
          "base_uri": "https://localhost:8080/"
        },
        "id": "cAobqChueOPX",
        "outputId": "ccac334d-1c03-41ad-ba96-2c10e7d3ccef"
      },
      "execution_count": 9,
      "outputs": [
        {
          "output_type": "stream",
          "name": "stdout",
          "text": [
            "I like orange\n"
          ]
        }
      ]
    },
    {
      "cell_type": "code",
      "source": [
        "# 6. Write a code to create a list with numbers 1 to 5 and print it.\n",
        "numbers = [1, 2, 3, 4, 5]\n",
        "print(numbers)\n"
      ],
      "metadata": {
        "colab": {
          "base_uri": "https://localhost:8080/"
        },
        "id": "m_iPxrRGeZXh",
        "outputId": "96e0c1d2-dcc6-4673-af50-3ef91d0bca0f"
      },
      "execution_count": 10,
      "outputs": [
        {
          "output_type": "stream",
          "name": "stdout",
          "text": [
            "[1, 2, 3, 4, 5]\n"
          ]
        }
      ]
    },
    {
      "cell_type": "code",
      "source": [
        "# 7. Write a code to append the number 10 to the list [1, 2, 3, 4]\n",
        "my_list = [1, 2, 3, 4]\n",
        "my_list.append(10)\n",
        "print(my_list)\n"
      ],
      "metadata": {
        "colab": {
          "base_uri": "https://localhost:8080/"
        },
        "id": "tEjOM8BvehV7",
        "outputId": "6f36ea0e-c39e-4101-916d-06c889217f60"
      },
      "execution_count": 11,
      "outputs": [
        {
          "output_type": "stream",
          "name": "stdout",
          "text": [
            "[1, 2, 3, 4, 10]\n"
          ]
        }
      ]
    },
    {
      "cell_type": "code",
      "source": [
        "# 8. Write a code to remove the number 3 from the list [1, 2, 3, 4, 5]\n",
        "\n",
        "my_list = [1, 2, 3, 4, 5]\n",
        "my_list.remove(3)\n",
        "print(my_list)\n",
        "\n"
      ],
      "metadata": {
        "colab": {
          "base_uri": "https://localhost:8080/"
        },
        "id": "Q6m4yfvTeseW",
        "outputId": "2bcf1a84-7c9c-493b-df7f-4e5bc97c373d"
      },
      "execution_count": 12,
      "outputs": [
        {
          "output_type": "stream",
          "name": "stdout",
          "text": [
            "[1, 2, 4, 5]\n"
          ]
        }
      ]
    },
    {
      "cell_type": "code",
      "source": [
        "# 9. Write a code to access the second element in the list ['a', 'b', 'c', 'd']\n",
        "\n",
        "my_list = ['a', 'b', 'c', 'd']\n",
        "print(my_list[1])  # Index starts at 0\n",
        "\n"
      ],
      "metadata": {
        "colab": {
          "base_uri": "https://localhost:8080/"
        },
        "id": "OjP3xi1re1je",
        "outputId": "ea6fb5fb-5c6c-4058-91fe-c11793a3b1c8"
      },
      "execution_count": 13,
      "outputs": [
        {
          "output_type": "stream",
          "name": "stdout",
          "text": [
            "b\n"
          ]
        }
      ]
    },
    {
      "cell_type": "code",
      "source": [
        "# 10. Write a code to reverse the list [10, 20, 30, 40, 50]\n",
        "\n",
        "my_list = [10, 20, 30, 40, 50]\n",
        "my_list.reverse()\n",
        "print(my_list)\n"
      ],
      "metadata": {
        "colab": {
          "base_uri": "https://localhost:8080/"
        },
        "id": "XKEIq-ZJe8X2",
        "outputId": "2fb60920-751b-444e-ef93-9e39030834ea"
      },
      "execution_count": 14,
      "outputs": [
        {
          "output_type": "stream",
          "name": "stdout",
          "text": [
            "[50, 40, 30, 20, 10]\n"
          ]
        }
      ]
    },
    {
      "cell_type": "code",
      "source": [
        "# 11. Create a tuple with the elements 100, 200, 300 and print it.\n",
        "my_tuple = (100, 200, 300)\n",
        "print(my_tuple)\n"
      ],
      "metadata": {
        "colab": {
          "base_uri": "https://localhost:8080/"
        },
        "id": "IkKMbKelfEgP",
        "outputId": "3297af83-b79b-412a-a4e4-903232329690"
      },
      "execution_count": 15,
      "outputs": [
        {
          "output_type": "stream",
          "name": "stdout",
          "text": [
            "(100, 200, 300)\n"
          ]
        }
      ]
    },
    {
      "cell_type": "code",
      "source": [
        "#  12. Access the second-to-last element of the tuple ('red', 'green', 'blue', 'yellow')\n",
        "colors = ('red', 'green', 'blue', 'yellow')\n",
        "print(colors[-2])  # 'blue'\n"
      ],
      "metadata": {
        "colab": {
          "base_uri": "https://localhost:8080/"
        },
        "id": "MXCmyvh3fdh5",
        "outputId": "ae8f4ea9-7847-4f9e-e1e0-96cfcb34d4c5"
      },
      "execution_count": 16,
      "outputs": [
        {
          "output_type": "stream",
          "name": "stdout",
          "text": [
            "blue\n"
          ]
        }
      ]
    },
    {
      "cell_type": "code",
      "source": [
        "# 13. Find the minimum number in the tuple (10, 20, 5, 15)\n",
        "nums = (10, 20, 5, 15)\n",
        "print(min(nums))  # 5\n"
      ],
      "metadata": {
        "colab": {
          "base_uri": "https://localhost:8080/"
        },
        "id": "ibPYngiMfm9W",
        "outputId": "ebcfb969-7269-4e4d-af26-692effd18b9e"
      },
      "execution_count": 17,
      "outputs": [
        {
          "output_type": "stream",
          "name": "stdout",
          "text": [
            "5\n"
          ]
        }
      ]
    },
    {
      "cell_type": "code",
      "source": [
        "# 14. Find the index of \"cat\" in the tuple ('dog', 'cat', 'rabbit')\n",
        "animals = ('dog', 'cat', 'rabbit')\n",
        "print(animals.index('cat'))  # 1\n"
      ],
      "metadata": {
        "colab": {
          "base_uri": "https://localhost:8080/"
        },
        "id": "NZdo06FnfuwE",
        "outputId": "0082a32b-ba2b-4177-8682-faad36b13c00"
      },
      "execution_count": 18,
      "outputs": [
        {
          "output_type": "stream",
          "name": "stdout",
          "text": [
            "1\n"
          ]
        }
      ]
    },
    {
      "cell_type": "code",
      "source": [
        "#  15. Create a tuple with three fruits and check if \"kiwi\" is in it\n",
        "fruits = ('apple', 'banana', 'kiwi')\n",
        "print('kiwi' in fruits)  # True\n",
        "\n"
      ],
      "metadata": {
        "colab": {
          "base_uri": "https://localhost:8080/"
        },
        "id": "RQYzuYpfgVzn",
        "outputId": "d52d29b4-4d0d-4316-f876-72b86f3e2acc"
      },
      "execution_count": 19,
      "outputs": [
        {
          "output_type": "stream",
          "name": "stdout",
          "text": [
            "True\n"
          ]
        }
      ]
    },
    {
      "cell_type": "code",
      "source": [
        "# 16. Create a set with elements 'a', 'b', 'c' and print it\n",
        "my_set = {'a', 'b', 'c'}\n",
        "print(my_set)\n"
      ],
      "metadata": {
        "colab": {
          "base_uri": "https://localhost:8080/"
        },
        "id": "7RP4YGZNgkLe",
        "outputId": "7e4e2b5c-38ee-4f1b-ec7c-89311288de47"
      },
      "execution_count": 20,
      "outputs": [
        {
          "output_type": "stream",
          "name": "stdout",
          "text": [
            "{'c', 'b', 'a'}\n"
          ]
        }
      ]
    },
    {
      "cell_type": "code",
      "source": [
        "# 17. Clear all elements from the set {1, 2, 3, 4, 5}\n",
        "s = {1, 2, 3, 4, 5}\n",
        "s.clear()\n",
        "print(s)  # set()\n"
      ],
      "metadata": {
        "colab": {
          "base_uri": "https://localhost:8080/"
        },
        "id": "UV3ToDlngqDM",
        "outputId": "ea8e2068-e6f3-47a9-c69c-82fa0a9dc80a"
      },
      "execution_count": 21,
      "outputs": [
        {
          "output_type": "stream",
          "name": "stdout",
          "text": [
            "set()\n"
          ]
        }
      ]
    },
    {
      "cell_type": "code",
      "source": [
        "# 18. Remove the element 4 from the set {1, 2, 3, 4}\n",
        "s = {1, 2, 3, 4}\n",
        "s.remove(4)\n",
        "print(s)  # {1, 2, 3}\n"
      ],
      "metadata": {
        "colab": {
          "base_uri": "https://localhost:8080/"
        },
        "id": "6wAr5wf-gul-",
        "outputId": "48472a24-99c6-47de-fc35-a6aaa327f337"
      },
      "execution_count": 22,
      "outputs": [
        {
          "output_type": "stream",
          "name": "stdout",
          "text": [
            "{1, 2, 3}\n"
          ]
        }
      ]
    },
    {
      "cell_type": "code",
      "source": [
        "# 19. Find the union of sets {1, 2, 3} and {3, 4, 5}\n",
        "a = {1, 2, 3}\n",
        "b = {3, 4, 5}\n",
        "print(a.union(b))  # {1, 2, 3, 4, 5}\n"
      ],
      "metadata": {
        "colab": {
          "base_uri": "https://localhost:8080/"
        },
        "id": "CakWLWSNg0cc",
        "outputId": "b425d627-71f3-4cad-b89c-0f5508e22d53"
      },
      "execution_count": 23,
      "outputs": [
        {
          "output_type": "stream",
          "name": "stdout",
          "text": [
            "{1, 2, 3, 4, 5}\n"
          ]
        }
      ]
    },
    {
      "cell_type": "code",
      "source": [
        "# 20. Find the intersection of sets {1, 2, 3} and {2, 3, 4}\n",
        "a = {1, 2, 3}\n",
        "b = {2, 3, 4}\n",
        "print(a.intersection(b))  # {2, 3}\n"
      ],
      "metadata": {
        "colab": {
          "base_uri": "https://localhost:8080/"
        },
        "id": "-FdYid3xg58q",
        "outputId": "fa3b51b0-3394-4afe-b9a8-be82615d5338"
      },
      "execution_count": 24,
      "outputs": [
        {
          "output_type": "stream",
          "name": "stdout",
          "text": [
            "{2, 3}\n"
          ]
        }
      ]
    },
    {
      "cell_type": "code",
      "source": [
        "# 21. Create a dictionary with keys \"name\", \"age\", and \"city\", and print it\n",
        "person = {\"name\": \"John\", \"age\": 30, \"city\": \"New York\"}\n",
        "print(person)\n"
      ],
      "metadata": {
        "colab": {
          "base_uri": "https://localhost:8080/"
        },
        "id": "5Ey60qAkg-Xm",
        "outputId": "731071c3-0252-4c12-b2ef-7c614f76c923"
      },
      "execution_count": 25,
      "outputs": [
        {
          "output_type": "stream",
          "name": "stdout",
          "text": [
            "{'name': 'John', 'age': 30, 'city': 'New York'}\n"
          ]
        }
      ]
    },
    {
      "cell_type": "code",
      "source": [
        "# 22. Add \"country\": \"USA\" to {'name': 'John', 'age': 25}\n",
        "person = {'name': 'John', 'age': 25}\n",
        "person['country'] = 'USA'\n",
        "print(person)\n"
      ],
      "metadata": {
        "colab": {
          "base_uri": "https://localhost:8080/"
        },
        "id": "j6e0zd9QhDNH",
        "outputId": "501d512c-3cf7-4567-bf70-ad82f6f798a9"
      },
      "execution_count": 26,
      "outputs": [
        {
          "output_type": "stream",
          "name": "stdout",
          "text": [
            "{'name': 'John', 'age': 25, 'country': 'USA'}\n"
          ]
        }
      ]
    },
    {
      "cell_type": "code",
      "source": [
        "#23. Access the value for key \"name\" in {'name': 'Alice', 'age': 30}\n",
        "info = {'name': 'Alice', 'age': 30}\n",
        "print(info['name'])  # Alice\n"
      ],
      "metadata": {
        "colab": {
          "base_uri": "https://localhost:8080/"
        },
        "id": "oWOkUpMEhJGI",
        "outputId": "03ac6391-4ed9-4371-a5fa-2008612e211e"
      },
      "execution_count": 27,
      "outputs": [
        {
          "output_type": "stream",
          "name": "stdout",
          "text": [
            "Alice\n"
          ]
        }
      ]
    },
    {
      "cell_type": "code",
      "source": [
        "# 24. Remove the key \"age\" from {'name': 'Bob', 'age': 22, 'city': 'New York'}\n",
        "data = {'name': 'Bob', 'age': 22, 'city': 'New York'}\n",
        "del data['age']\n",
        "print(data)  # {'name': 'Bob', 'city': 'New York'}\n"
      ],
      "metadata": {
        "colab": {
          "base_uri": "https://localhost:8080/"
        },
        "id": "HTdzRGT1hN7p",
        "outputId": "be517925-d2a4-4130-f676-8d42b8824519"
      },
      "execution_count": 28,
      "outputs": [
        {
          "output_type": "stream",
          "name": "stdout",
          "text": [
            "{'name': 'Bob', 'city': 'New York'}\n"
          ]
        }
      ]
    },
    {
      "cell_type": "code",
      "source": [
        "# 25. Check if key \"city\" exists in {'name': 'Alice', 'city': 'Paris'}\n",
        "d = {'name': 'Alice', 'city': 'Paris'}\n",
        "print('city' in d)  # True\n"
      ],
      "metadata": {
        "colab": {
          "base_uri": "https://localhost:8080/"
        },
        "id": "6m2j8P4thSup",
        "outputId": "de43f49a-4487-4b93-df7a-e09de67c9b2c"
      },
      "execution_count": 29,
      "outputs": [
        {
          "output_type": "stream",
          "name": "stdout",
          "text": [
            "True\n"
          ]
        }
      ]
    },
    {
      "cell_type": "code",
      "source": [
        "# 26. Create a list, a tuple, and a dictionary, and print them all\n",
        "my_list = [1, 2, 3]\n",
        "my_tuple = (4, 5, 6)\n",
        "my_dict = {'a': 7, 'b': 8}\n",
        "print(my_list)\n",
        "print(my_tuple)\n",
        "print(my_dict)\n"
      ],
      "metadata": {
        "colab": {
          "base_uri": "https://localhost:8080/"
        },
        "id": "l6erQY3nhZRE",
        "outputId": "d8dbe5f7-2288-4ac3-9522-2b8fb3840b2e"
      },
      "execution_count": 30,
      "outputs": [
        {
          "output_type": "stream",
          "name": "stdout",
          "text": [
            "[1, 2, 3]\n",
            "(4, 5, 6)\n",
            "{'a': 7, 'b': 8}\n"
          ]
        }
      ]
    },
    {
      "cell_type": "code",
      "source": [
        "# 27. Create a list of 5 random numbers between 1 and 100, sort it, and print\n",
        "import random\n",
        "nums = random.sample(range(1, 101), 5)\n",
        "nums.sort()\n",
        "print(nums)\n"
      ],
      "metadata": {
        "colab": {
          "base_uri": "https://localhost:8080/"
        },
        "id": "WmBfMb56herJ",
        "outputId": "d72f93d3-83d3-4c34-fc47-adad50ea1789"
      },
      "execution_count": 31,
      "outputs": [
        {
          "output_type": "stream",
          "name": "stdout",
          "text": [
            "[4, 46, 50, 56, 70]\n"
          ]
        }
      ]
    },
    {
      "cell_type": "code",
      "source": [
        "# 28. Create a list with strings and print the element at the third index\n",
        "words = ['apple', 'banana', 'cherry', 'date', 'fig']\n",
        "print(words[3])  # 'date'\n"
      ],
      "metadata": {
        "colab": {
          "base_uri": "https://localhost:8080/"
        },
        "id": "LEkk7pKzhjMA",
        "outputId": "6e67a017-8138-4b47-bdac-3b9aaa490f7b"
      },
      "execution_count": 32,
      "outputs": [
        {
          "output_type": "stream",
          "name": "stdout",
          "text": [
            "date\n"
          ]
        }
      ]
    },
    {
      "cell_type": "code",
      "source": [
        "# 29. Combine two dictionaries and print the result\n",
        "dict1 = {'a': 1, 'b': 2}\n",
        "dict2 = {'c': 3, 'd': 4}\n",
        "combined = {**dict1, **dict2}\n",
        "print(combined)\n"
      ],
      "metadata": {
        "colab": {
          "base_uri": "https://localhost:8080/"
        },
        "id": "JtzXmZTAhp-K",
        "outputId": "a8efae91-7b92-42ce-8a66-befc46154859"
      },
      "execution_count": 33,
      "outputs": [
        {
          "output_type": "stream",
          "name": "stdout",
          "text": [
            "{'a': 1, 'b': 2, 'c': 3, 'd': 4}\n"
          ]
        }
      ]
    },
    {
      "cell_type": "code",
      "source": [
        "# 30. Convert a list of strings into a set\n",
        "words = ['apple', 'banana', 'apple', 'cherry']\n",
        "unique_words = set(words)\n",
        "print(unique_words)  # {'banana', 'cherry', 'apple'}\n"
      ],
      "metadata": {
        "colab": {
          "base_uri": "https://localhost:8080/"
        },
        "id": "R670kVxkhxbM",
        "outputId": "65154278-538d-4078-81c9-fa15eb7f479a"
      },
      "execution_count": 34,
      "outputs": [
        {
          "output_type": "stream",
          "name": "stdout",
          "text": [
            "{'apple', 'banana', 'cherry'}\n"
          ]
        }
      ]
    },
    {
      "cell_type": "code",
      "source": [],
      "metadata": {
        "id": "V-Ke39Wwh10G"
      },
      "execution_count": null,
      "outputs": []
    }
  ]
}