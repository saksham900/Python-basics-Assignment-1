{
  "nbformat": 4,
  "nbformat_minor": 0,
  "metadata": {
    "colab": {
      "provenance": []
    },
    "kernelspec": {
      "name": "python3",
      "display_name": "Python 3"
    },
    "language_info": {
      "name": "python"
    }
  },
  "cells": [
    {
      "cell_type": "code",
      "execution_count": 24,
      "metadata": {
        "id": "ALBQed2aV6vh"
      },
      "outputs": [],
      "source": [
        "# Q1 What is Python, and why is it popular?\n",
        "# ans) Like many programing languages like c,c++,java, python is also an easy to learn language used by programers and developers.These are a set of rules\n",
        "#      and instructions by which we can communicate with the computer. Its is a popular tool as it is Capable of adapting to various programming styles, such as\n",
        "#      functional, object-oriented, and procedural etc.\n",
        "\n",
        "\n",
        "# Q2 What is an interpreter in Python ?\n",
        "#    Interpreter is program to read and interpret a code. When we use .py extention to write a code, then it is not compiled into machine code directly hence,\n",
        "#    python interpreter translates your code line by line into a form the computer can execute. CPython,PyPy,Jython are its examples.\n",
        "\n",
        "\n",
        "# Q3 What are pre-defined keywords in Python?\n",
        "#    Keywords are built-in words in Python with predefined meanings, and they cannot be used as names for identifiers(variable names, function names, etc)\n",
        "#    if, else, while, for, def, class, import,True, False etc are it's examples.We cannot redefine or override keywords in Python, and they must be used\n",
        "#    with the correct case.\n",
        "\n",
        "\n",
        "# Q4 Can keywords be used as variable names?\n",
        "#    No, keywords cannot be used as variable names in Python. Keywords are reserved words that have predefined meanings and functions in the language.\n",
        "#    Using them as variable names would cause a syntax error, because Python expects them to be used only in their specific roles.\n",
        "\n",
        "\n",
        "# Q5 What is mutability in Python ?\n",
        "#    Mutability and immutability is a property concerned with objects.Objects like lists and dictionaries are mutable, meaning their contents can be\n",
        "#    changed after they're created. In contrast, tuples and strings are immutable and cannot be altered once defined.Whether an object is mutable or immutable\n",
        "#    impacts memory handling, performance, and how the object behaves in concurrent execution in Python.\n",
        "\n",
        "\n",
        "# Q6 Why are lists mutable, but tuples are immutable ?\n",
        "#    In Python, lists are mutable because they are designed to store dynamic data that can change over time, allowing modifications like adding or removing elements.\n",
        "#    Tuples, on the other hand, are immutable to ensure data integrity and support use cases like dictionary keys. This design enhances performance, memory efficiency,\n",
        "#    and safety when handling fixed or constant data.\n",
        "\n",
        "\n",
        "# Q7 What is the difference between “==” and “is” operators in Python?\n",
        "#   In Python, == checks if two things have the same value, like if two lists have the same items. The is operator checks if both things are actually the same\n",
        "#   object in memory. So, == means “are these equal?” and is means “are these the exact same thing?”\n",
        "\n",
        "\n",
        "# Q8 What are logical operators in Python?\n",
        "#   Logical operators in Python are used to combine multiple conditions and return a Boolean result—either True or False. The main logical operators are\n",
        "#   and, or, and not. The and operator returns True only if both conditions are true, while the or operator returns True if at least one condition is true.\n",
        "#   The not operator reverses the result, turning True into False and vice versa. These operators are essential for controlling the flow of programs by making\n",
        "#   decisions based on multiple conditions.\n",
        "\n",
        "\n",
        "# Q9 What is type casting in Python?\n",
        "#    Type casting, also referred to as type conversion, is the process of changing one data type to another in Python. Python provides built-in functions for\n",
        "#    type casting, such as int(), float(), str(), list(), tuple(), and dict(). Type casting is often necessary for performing arithmetic operations, data\n",
        "#    manipulation, and input/output operations in Python programs. It helps ensure data is in the correct format for specific tasks, making programs more\n",
        "#    flexible and error-free.\n",
        "\n",
        "\n",
        "# Q10 What is the difference between implicit and explicit type casting?\n",
        "#   Implicit type casting (or coercion) happens automatically when Python converts one data type to another without the programmer’s intervention. For example,\n",
        "#   when an integer and a float are used together in an operation, Python converts the integer to a float automatically. Explicit type casting requires the\n",
        "#   programmer to manually convert a data type using built-in functions like int(), float(), or str(). This gives more control over how and when data types are changed.\n",
        "\n",
        "\n",
        "# Q11 What is the purpose of conditional statements in Python?\n",
        "#    Conditional statements in Python control the flow of a program by executing code based on conditions. Using if, elif, and else, Python evaluates logical expressions\n",
        "#    to decide which code block runs. Nested conditionals allow handling multiple conditions, enabling the program to make decisions and perform different actions\n",
        "#    depending on the outcome of those conditions.\n",
        "\n",
        "\n",
        "# Q12  How does the elif statement work ?\n",
        "#   The `elif` statement in Python stands for \"else if\" and is used to check multiple conditions in a sequence. After an initial `if` condition, `elif` allows you to test\n",
        "#   additional conditions if the previous ones are false. Python evaluates each condition one by one, and the first condition that is true will have its code block executed.\n",
        "#   If none are true, the optional `else` block runs.\n",
        "\n",
        "\n",
        "# Q13 What is the difference between for and while loops ?\n",
        "#    A for loop in Python runs a set number of times, iterating over items in a sequence like a list or range. In contrast, a while loop continues running as long as a\n",
        "#    specified condition remains true, making it ideal when the number of iterations isn’t known beforehand. Both control repeated execution but differ in usage and control.\n",
        "\n",
        "\n",
        "#Q14 Describe a scenario where a while loop is more suitable than a for loop.\n",
        "#   In a user registration system, a while loop is ideal for validating a password until it meets specific criteria. When a user creates a password, the program checks if\n",
        "#   it’s strong enough—containing uppercase letters, numbers, and special characters. Since the number of attempts a user might need isn’t fixed, a while loop repeatedly\n",
        "#   prompts the user to enter a password until it satisfies all requirements. This ensures flexibility, as the program keeps running the validation check, giving feedback\n",
        "#   after each attempt, and only proceeds when a valid password is provided. Using a for loop here wouldn’t work well because the number of attempts varies and isn’t known\n",
        "#   beforehand, making the while loop a perfect choice for this real-life scenario.\n"
      ]
    },
    {
      "cell_type": "code",
      "source": [
        "# PRACICAL QUESTIONS"
      ],
      "metadata": {
        "id": "l2yNPdY4fETz"
      },
      "execution_count": 25,
      "outputs": []
    },
    {
      "cell_type": "code",
      "source": [
        "#Q1 Write a Python program to print \"Hello, World!\"\n",
        "print(\"hello world!\")"
      ],
      "metadata": {
        "id": "01MLKVfqbdFC",
        "colab": {
          "base_uri": "https://localhost:8080/"
        },
        "outputId": "828e2721-fa82-4666-c042-c661fc00b2ba"
      },
      "execution_count": 26,
      "outputs": [
        {
          "output_type": "stream",
          "name": "stdout",
          "text": [
            "hello world!\n"
          ]
        }
      ]
    },
    {
      "cell_type": "code",
      "source": [
        "#Q2 Write a Python program that displays your name and age.\n",
        "Name = \"Saksham\"\n",
        "Age=\"18\"\n",
        "print(\"My name is\",Name)"
      ],
      "metadata": {
        "id": "Ax6bIRmKXWM1",
        "colab": {
          "base_uri": "https://localhost:8080/"
        },
        "outputId": "e8a8081a-7ae7-4269-a5e4-bed3a8b473b0"
      },
      "execution_count": 27,
      "outputs": [
        {
          "output_type": "stream",
          "name": "stdout",
          "text": [
            "My name is Saksham\n"
          ]
        }
      ]
    },
    {
      "cell_type": "code",
      "source": [
        "print(\"I am\", Age, \"years old\")"
      ],
      "metadata": {
        "colab": {
          "base_uri": "https://localhost:8080/"
        },
        "id": "lFuUs6MkJEy_",
        "outputId": "c62bf281-af68-4cc4-a45c-ff3a03e8251d"
      },
      "execution_count": 28,
      "outputs": [
        {
          "output_type": "stream",
          "name": "stdout",
          "text": [
            "I am 18 years old\n"
          ]
        }
      ]
    },
    {
      "cell_type": "code",
      "source": [
        "#Q3 Write code to print all the pre-defined keywords in Python using the keyword library.\n",
        "import keyword\n",
        "keywords_list = keyword.kwlist\n",
        "print(\"Python keywords are:\")\n",
        "for kw in keywords_list:\n",
        "    print(kw)"
      ],
      "metadata": {
        "colab": {
          "base_uri": "https://localhost:8080/"
        },
        "id": "IyP5gaIyJssa",
        "outputId": "1a9eca89-6bd1-47c8-db64-790b10c20aef"
      },
      "execution_count": 29,
      "outputs": [
        {
          "output_type": "stream",
          "name": "stdout",
          "text": [
            "Python keywords are:\n",
            "False\n",
            "None\n",
            "True\n",
            "and\n",
            "as\n",
            "assert\n",
            "async\n",
            "await\n",
            "break\n",
            "class\n",
            "continue\n",
            "def\n",
            "del\n",
            "elif\n",
            "else\n",
            "except\n",
            "finally\n",
            "for\n",
            "from\n",
            "global\n",
            "if\n",
            "import\n",
            "in\n",
            "is\n",
            "lambda\n",
            "nonlocal\n",
            "not\n",
            "or\n",
            "pass\n",
            "raise\n",
            "return\n",
            "try\n",
            "while\n",
            "with\n",
            "yield\n"
          ]
        }
      ]
    },
    {
      "cell_type": "code",
      "source": [
        "#Q4 Write a program that checks if a given word is a Python keyword.\n",
        "import keyword\n",
        "\n",
        "# Ask the user to enter a word\n",
        "word = input(\"Enter a word to check if it's a Python keyword: \")\n",
        "\n",
        "# Check if the word is a keyword\n",
        "if keyword.iskeyword(word):\n",
        "    print(f\"'{word}' is a Python keyword.\")\n",
        "else:\n",
        "    print(f\"'{word}' is NOT a Python keyword.\")\n"
      ],
      "metadata": {
        "id": "5TyGehfIKGac"
      },
      "execution_count": null,
      "outputs": []
    },
    {
      "cell_type": "code",
      "source": [
        "#Q5 Create a list and tuple in Python, and demonstrate how attempting to change an element works differently\n",
        "#for each\n",
        "# Creating a list and a tuple\n",
        "my_list = [10, 20, 30]\n",
        "my_tuple = (10, 20, 30)\n",
        "\n",
        "# Modifying the list\n",
        "print(\"Original list:\", my_list)\n",
        "my_list[1] = 200\n",
        "print(\"Modified list:\", my_list)\n",
        "\n",
        "# Attempting to modify the tuple\n",
        "print(\"\\nOriginal tuple:\", my_tuple)\n",
        "try:\n",
        "    my_tuple[1] = 200\n",
        "except TypeError as e:\n",
        "    print(\"Error while modifying tuple:\", e)\n"
      ],
      "metadata": {
        "id": "b91Dj6kjLJJW"
      },
      "execution_count": null,
      "outputs": []
    },
    {
      "cell_type": "code",
      "source": [
        "#Q6  Write a function to demonstrate the behavior of mutable and immutable arguments.\n",
        "def modify_arguments(num, num_list):\n",
        "    print(\"\\nInside function before changes:\")\n",
        "    print(\"num =\", num)\n",
        "    print(\"num_list =\", num_list)\n",
        "\n",
        "    num += 10            # This won't affect the original integer\n",
        "    num_list.append(100) # This will change the original list\n",
        "\n",
        "    print(\"\\nInside function after changes:\")\n",
        "    print(\"num =\", num)\n",
        "    print(\"num_list =\", num_list)\n",
        "\n",
        "# Immutable argument\n",
        "x = 5\n",
        "\n",
        "# Mutable argument\n",
        "my_list = [1, 2, 3]\n",
        "\n",
        "print(\"Before function call:\")\n",
        "print(\"x =\", x)\n",
        "print(\"my_list =\", my_list)\n",
        "\n",
        "modify_arguments(x, my_list)\n",
        "\n",
        "print(\"\\nAfter function call:\")\n",
        "print(\"x =\", x)           # Unchanged\n",
        "print(\"my_list =\", my_list) # Changed\n"
      ],
      "metadata": {
        "id": "GLtzV1kULgA9"
      },
      "execution_count": null,
      "outputs": []
    },
    {
      "cell_type": "code",
      "source": [
        "#Q7  Write a program that performs basic arithmetic operations on two user-input numbers.\n",
        "# Ask the user for two numbers\n",
        "num1 = float(input(\"Enter the first number: \"))\n",
        "num2 = float(input(\"Enter the second number: \"))\n",
        "\n",
        "# Perform arithmetic operations\n",
        "print(\"\\nArithmetic Operations:\")\n",
        "print(f\"{num1} + {num2} = {num1 + num2}\")\n",
        "print(f\"{num1} - {num2} = {num1 - num2}\")\n",
        "print(f\"{num1} * {num2} = {num1 * num2}\")\n",
        "\n",
        "# Handle division by zero\n",
        "if num2 != 0:\n",
        "    print(f\"{num1} / {num2} = {num1 / num2}\")\n",
        "else:\n",
        "    print(\"Division by zero is not allowed.\")\n"
      ],
      "metadata": {
        "id": "R85t45mFLuSi"
      },
      "execution_count": null,
      "outputs": []
    },
    {
      "cell_type": "code",
      "source": [
        "# Q8  Write a program to demonstrate the use of logical operators.\n",
        "# Take user input\n",
        "a = int(input(\"Enter first number: \"))\n",
        "b = int(input(\"Enter second number: \"))\n",
        "\n",
        "# Demonstrate logical AND\n",
        "print(\"\\nLogical AND:\")\n",
        "if a > 0 and b > 0:\n",
        "    print(\"Both numbers are positive.\")\n",
        "else:\n",
        "    print(\"At least one number is not positive.\")\n",
        "\n",
        "# Demonstrate logical OR\n",
        "print(\"\\nLogical OR:\")\n",
        "if a > 0 or b > 0:\n",
        "    print(\"At least one number is positive.\")\n",
        "else:\n",
        "    print(\"Neither number is positive.\")\n",
        "\n",
        "# Demonstrate logical NOT\n",
        "print(\"\\nLogical NOT:\")\n",
        "print(\"Not (a > 0):\", not (a > 0))\n",
        "print(\"Not (b > 0):\", not (b > 0))\n"
      ],
      "metadata": {
        "id": "VJWYJzsDL8DX"
      },
      "execution_count": null,
      "outputs": []
    },
    {
      "cell_type": "code",
      "source": [
        "#Q9  Write a Python program to convert user input from string to integer, float, and boolean types.\n",
        "# Take input from the user\n",
        "user_input = input(\"Enter a value: \")\n",
        "\n",
        "# Convert to integer\n",
        "try:\n",
        "    int_value = int(user_input)\n",
        "    print(\"Integer:\", int_value)\n",
        "except ValueError:\n",
        "    print(\"Cannot convert to integer.\")\n",
        "\n",
        "# Convert to float\n",
        "try:\n",
        "    float_value = float(user_input)\n",
        "    print(\"Float:\", float_value)\n",
        "except ValueError:\n",
        "    print(\"Cannot convert to float.\")\n",
        "\n",
        "# Convert to boolean\n",
        "bool_value = bool(user_input)\n",
        "print(\"Boolean:\", bool_value)\n"
      ],
      "metadata": {
        "id": "iamMxtKGMNJ3"
      },
      "execution_count": null,
      "outputs": []
    },
    {
      "cell_type": "code",
      "source": [
        "#Q10 Write code to demonstrate type casting with list elements.\n",
        "# Original list of strings representing numbers\n",
        "str_list = ['10', '20', '30', '40.5', '50']\n",
        "\n",
        "print(\"Original string list:\", str_list)\n",
        "\n",
        "# Convert string elements to integers (only valid if all strings are integer-like)\n",
        "int_list = [int(x) for x in str_list if x.isdigit()]\n",
        "print(\"Converted to integers (valid entries only):\", int_list)\n",
        "\n",
        "# Convert all string elements to floats (will handle '40.5' as well)\n",
        "try:\n",
        "    float_list = [float(x) for x in str_list]\n",
        "    print(\"Converted to floats:\", float_list)\n",
        "except ValueError as e:\n",
        "    print(\"Error in float conversion:\", e)\n",
        "\n",
        "# Convert numbers back to strings\n",
        "str_from_int = [str(x) for x in int_list]\n",
        "print(\"Converted integers back to strings:\", str_from_int)\n"
      ],
      "metadata": {
        "id": "_cVoK8W-MeS9"
      },
      "execution_count": null,
      "outputs": []
    },
    {
      "cell_type": "code",
      "source": [
        "#Q11 Write a program that checks if a number is positive, negative, or zero.\n",
        "# Get user input and convert to a number\n",
        "num = float(input(\"Enter a number: \"))\n",
        "\n",
        "# Check if the number is positive, negative, or zero\n",
        "if num > 0:\n",
        "    print(\"The number is positive.\")\n",
        "elif num < 0:\n",
        "    print(\"The number is negative.\")\n",
        "else:\n",
        "    print(\"The number is zero.\")\n"
      ],
      "metadata": {
        "id": "8oUd0RMTMt2z"
      },
      "execution_count": null,
      "outputs": []
    },
    {
      "cell_type": "code",
      "source": [
        "#Q12 . Write a for loop to print numbers from 1 to 10.\n",
        "\n",
        "for i in range(1, 11):\n",
        "    print(i)\n"
      ],
      "metadata": {
        "id": "mzhOuFMDM8TF"
      },
      "execution_count": null,
      "outputs": []
    },
    {
      "cell_type": "code",
      "source": [
        "#Q13  Write a Python program to find the sum of all even numbers between 1 and 50.\n",
        "# Initialize sum\n",
        "total = 0\n",
        "\n",
        "# Loop through numbers 1 to 50\n",
        "for num in range(1, 51):\n",
        "    if num % 2 == 0:  # Check if the number is even\n",
        "        total += num\n",
        "\n",
        "print(\"Sum of all even numbers between 1 and 50 is:\", total)\n"
      ],
      "metadata": {
        "id": "7jf63xBUNI04"
      },
      "execution_count": null,
      "outputs": []
    },
    {
      "cell_type": "code",
      "source": [
        "#Q14  Write a program to reverse a string using a while loop.\n",
        "# Take input from the user\n",
        "original_str = input(\"Enter a string to reverse: \")\n",
        "\n",
        "# Initialize variables\n",
        "reversed_str = \"\"\n",
        "index = len(original_str) - 1\n",
        "\n",
        "# Loop to build the reversed string\n",
        "while index >= 0:\n",
        "    reversed_str += original_str[index]\n",
        "    index -= 1\n",
        "\n",
        "print(\"Reversed string:\", reversed_str)\n"
      ],
      "metadata": {
        "id": "nZJrN0UcNYls"
      },
      "execution_count": null,
      "outputs": []
    },
    {
      "cell_type": "code",
      "source": [
        "#Q15  Write a Python program to calculate the factorial of a number provided by the user using a while loop.\n",
        "# Get input from the user\n",
        "num = int(input(\"Enter a non-negative integer: \"))\n",
        "\n",
        "# Check for valid input\n",
        "if num < 0:\n",
        "    print(\"Factorial is not defined for negative numbers.\")\n",
        "else:\n",
        "    factorial = 1\n",
        "    i = 1\n",
        "    while i <= num:\n",
        "        factorial *= i\n",
        "        i += 1\n",
        "    print(f\"The factorial of {num} is {factorial}\")\n"
      ],
      "metadata": {
        "id": "WUmi7ZG0NiNy"
      },
      "execution_count": null,
      "outputs": []
    },
    {
      "cell_type": "code",
      "source": [],
      "metadata": {
        "id": "Upb2Th0NNybX"
      },
      "execution_count": null,
      "outputs": []
    }
  ]
}